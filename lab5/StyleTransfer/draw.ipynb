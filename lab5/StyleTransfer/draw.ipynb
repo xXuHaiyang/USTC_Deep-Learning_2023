{
 "cells": [
  {
   "cell_type": "code",
   "execution_count": 18,
   "metadata": {},
   "outputs": [],
   "source": [
    "import matplotlib.pyplot as plot\n",
    "import numpy as np\n",
    "import os\n",
    "import re\n",
    "from PIL import Image"
   ]
  },
  {
   "cell_type": "code",
   "execution_count": 19,
   "metadata": {},
   "outputs": [],
   "source": [
    "# extract all the images begin with \"name\" in ./transferred\n",
    "def extract_images(name, dir=\"./transferred/\"):\n",
    "    images = []\n",
    "    for file in os.listdir(dir):\n",
    "        if file.startswith(name):\n",
    "            images.append(file)\n",
    "    return images"
   ]
  },
  {
   "cell_type": "code",
   "execution_count": 20,
   "metadata": {},
   "outputs": [],
   "source": [
    "names = [\"big_ben\", \"egipt_tower\", \"emperial_tower\", \"golden_gate\", \\\n",
    "            \"london_tower\", \"palace_museum\", \"paris_museum\", \"red_palace\", \"white_house\"]"
   ]
  },
  {
   "cell_type": "code",
   "execution_count": 21,
   "metadata": {},
   "outputs": [],
   "source": [
    "for name in names:\n",
    "    # merge the images in groups into a bigger single image in raw resolution\n",
    "    images = extract_images(name)\n",
    "    # sort the images by the name\n",
    "    images = sorted(images)\n",
    "    image0 = Image.open(\"./transferred/\" + images[0])\n",
    "    image1 = Image.open(\"./transferred/\" + images[1])\n",
    "    image2 = Image.open(\"./transferred/\" + images[2])\n",
    "    image3 = Image.open(\"./transferred/\" + images[3])\n",
    "    image4 = Image.open(\"./transferred/\" + images[4])\n",
    "    image5 = Image.open(\"./transferred/\" + images[5])\n",
    "    w, h = image0.size\n",
    "    # bigger picture: 2 rows 3 columns\n",
    "    bigger = Image.new('RGB', (w*3, h*2))\n",
    "    bigger.paste(image0, (0, 0))\n",
    "    bigger.paste(image1, (w, 0))\n",
    "    bigger.paste(image2, (w*2, 0))\n",
    "    bigger.paste(image3, (0, h))\n",
    "    bigger.paste(image4, (w, h))\n",
    "    bigger.paste(image5, (w*2, h))\n",
    "    bigger.save(\"./transferred/1_\" + name + \".jpg\")"
   ]
  }
 ],
 "metadata": {
  "kernelspec": {
   "display_name": "torch",
   "language": "python",
   "name": "python3"
  },
  "language_info": {
   "codemirror_mode": {
    "name": "ipython",
    "version": 3
   },
   "file_extension": ".py",
   "mimetype": "text/x-python",
   "name": "python",
   "nbconvert_exporter": "python",
   "pygments_lexer": "ipython3",
   "version": "3.9.16"
  },
  "orig_nbformat": 4
 },
 "nbformat": 4,
 "nbformat_minor": 2
}
